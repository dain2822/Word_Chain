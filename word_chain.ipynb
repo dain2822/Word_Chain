{
 "cells": [
  {
   "cell_type": "code",
   "execution_count": null,
   "id": "6de1bb8d",
   "metadata": {},
   "outputs": [],
   "source": [
    "# 킬링 끝음절 리스트 추가(추후에 해도 될듯)\n",
    "# 비속어, 한글자 입력 시 다시 입력할 수 있게 하기   -> 완료\n",
    "# 첫 음절만 같게 하고 띄어쓰기 -> 두번째부터는 게임이 이어짐 다시 보기\n",
    "# 특수문자 입력 시 다시 입력\n",
    "# 끝음절이 자음 또는 모음 하나만 있을 경우 종료"
   ]
  },
  {
   "cell_type": "code",
   "execution_count": null,
   "id": "8308e805",
   "metadata": {},
   "outputs": [
    {
     "name": "stdout",
     "output_type": "stream",
     "text": [
      "you:      | com: 경보 \n",
      " --------------------\n"
     ]
    },
    {
     "ename": "IndexError",
     "evalue": "string index out of range",
     "output_type": "error",
     "traceback": [
      "\u001b[1;31m---------------------------------------------------------------------------\u001b[0m",
      "\u001b[1;31mIndexError\u001b[0m                                Traceback (most recent call last)",
      "Cell \u001b[1;32mIn[31], line 82\u001b[0m\n\u001b[0;32m     79\u001b[0m     \u001b[38;5;28;01mbreak\u001b[39;00m\n\u001b[0;32m     81\u001b[0m \u001b[38;5;66;03m# 잘못된 단어 입력\u001b[39;00m\n\u001b[1;32m---> 82\u001b[0m \u001b[38;5;28;01mif\u001b[39;00m query[\u001b[38;5;241m0\u001b[39m] \u001b[38;5;241m!=\u001b[39m com[\u001b[38;5;241m-\u001b[39m\u001b[38;5;241m1\u001b[39m]: \n\u001b[0;32m     83\u001b[0m     \u001b[38;5;28mprint\u001b[39m(\u001b[38;5;124mf\u001b[39m\u001b[38;5;124m'\u001b[39m\u001b[38;5;132;01m{\u001b[39;00mquery\u001b[38;5;132;01m}\u001b[39;00m\u001b[38;5;124m 은(는) \u001b[39m\u001b[38;5;132;01m{\u001b[39;00mcom[\u001b[38;5;241m-\u001b[39m\u001b[38;5;241m1\u001b[39m]\u001b[38;5;132;01m}\u001b[39;00m\u001b[38;5;124m로 시작하지 않습니다. com의 승리!\u001b[39m\u001b[38;5;124m'\u001b[39m)\n\u001b[0;32m     84\u001b[0m     \u001b[38;5;28;01mbreak\u001b[39;00m\n",
      "\u001b[1;31mIndexError\u001b[0m: string index out of range"
     ]
    }
   ],
   "source": [
    "import requests\n",
    "import json\n",
    "import random\n",
    "import re\n",
    "\n",
    "# 우리말샘 사전 API\n",
    "api = 'API 키 발급 후 입력'\n",
    "\n",
    "# 킬링 끝음절 리스트 지정\n",
    "ban_last_chars = ['녘', '읊', '튕', '듈', '잚', '앎', '늪', '흙', '맑', '쳑', '딩', '팅', '늬', '뺌', '섯', '뺌',\n",
    "                  '켬', '쁨', '찧', '앓', '륨', '뜀', '찝', '짊', '얽', '젖', '픔', '륨', '슘', '듐', '츔' '썹']\n",
    "# 비속어 리스트 지정\n",
    "ban_words = ['바보', '멍청이', '병신', '시발', '시바', '빙시', '븅신', '씨발', '씨바', '존나', '느금마', '개새끼', '지랄']\n",
    "# 사용자가 입력한 단어 리스트트\n",
    "said_y = []\n",
    "\n",
    "# 첫 입력\n",
    "query = input(\"단어를 입력하세요(종료를 원하면 '그만'을 입력해주세요.): \")\n",
    "# 두 글자 이상으로 단어 최소 길이 제한\n",
    "while len(query) <= 1:\n",
    "    query = input(\"두 글자 이상의 단어를 입력해주세요(종료를 원하면 '그만'을 입력해주세요.): \")\n",
    "# 비속어 제한한\n",
    "if query in ban_words:\n",
    "    query = input(\"비속어는 사용할 수 없습니다. 올바른 단어를 입력해주세요.\")\n",
    "\n",
    "#띄어쓰기 제한\n",
    "if query.find(' ') != -1:\n",
    "    query = input(\"올바른 단어를 입력해주세요.\")\n",
    "\n",
    "# 사용자가 입력한 단어 리스트에 추가가  \n",
    "said_y.append(query)\n",
    "\n",
    "\n",
    "while True:\n",
    "    # 단어 검색 요청\n",
    "    url = f\"https://opendict.korean.go.kr/api/search?certkey_no=6828&key={api}&target_type=search&req_type=json&part=word&q={query[-1]}&sort=date&start=1&num=100&advanced=y&method=start&type1=word&pos=1\"\n",
    "    response = requests.get(url).text\n",
    "    response = json.loads(response)\n",
    "\n",
    "    # 이용할 단어 담을 리스트 생성\n",
    "    word_list = []\n",
    "\n",
    "    # word_list 리스트에 단어 추가가\n",
    "    for i in range(100):\n",
    "        try:\n",
    "            a = response['channel']['item'][i]['word']\n",
    "            if a not in said_y:\n",
    "                word_list.append(a)\n",
    "        except:\n",
    "            pass\n",
    "        \n",
    "        # 킬링 끝음절, 하이픈(-) 포함 단어 필터링링\n",
    "        filtered_words = [\n",
    "            w for w in word_list\n",
    "            if w[-1] not in ban_last_chars\n",
    "            and '-' not in w\n",
    "        ]\n",
    "\n",
    "    # com이 더이상 이을 수 있는 단어가 없을 때\n",
    "    if not word_list:\n",
    "        print('더 이상 이어지는 단어가 없습니다. 당신의 승리!')\n",
    "        break\n",
    "\n",
    "    # 필터링 된 단어에서 랜덤으로 추출\n",
    "    com = random.choice(filtered_words)\n",
    "\n",
    "    # 사용자 입력 단어와 com의 단어 출력\n",
    "    print('you:', query, '|', 'com:', com, '\\n', '-'*20)\n",
    "\n",
    "    # com이 사용한 단어 리스트에 추가가\n",
    "    said_y.append(com)\n",
    "\n",
    "    # 두 번째 이상의 입력/입력해야할 첫 글자 언급\n",
    "    query = input(f\"{com[-1]}로 시작하는 단어를 입력해주세요(종료를 원하면 '그만'을 입력해주세요.): \")\n",
    "    \n",
    "    # 사용자 의지로 게임 종료\n",
    "    if query == '그만': \n",
    "        print('게임 종료!')\n",
    "        break\n",
    "    \n",
    "    # 잘못된 단어 입력\n",
    "    if query[0] != com[-1]: \n",
    "        print(f'{query} 은(는) {com[-1]}로 시작하지 않습니다. com의 승리!')\n",
    "        break\n",
    "\n",
    "    # 중복 입력 금지\n",
    "    if query in said_y: \n",
    "        print(f'{query} 은(는) 이미 입력한 단어입니다. com의 승리!')\n",
    "        break\n",
    "    \n",
    "    # 단어 최소 길이 제한\n",
    "    if len(query) <= 1: \n",
    "        query = input('두 글자 이상의 단어를 입력해주세요.')\n",
    "        continue\n",
    "\n",
    "    # 비속어 제한\n",
    "    if query in ban_words:  \n",
    "        query = input(\"비속어는 사용할 수 없습니다. 올바른 단어를 입력해주세요.\")\n",
    "        continue\n",
    "    \n",
    "    # 띄어쓰기 제한\n",
    "    if query.find(' ') != -1:\n",
    "        query = input(\"올바른 단어를 입력해주세요.\")\n",
    "        continue\n",
    "\n",
    "    # 사용자 입력 단어 리스트에 추가\n",
    "    said_y.append(query)\n"
   ]
  },
  {
   "cell_type": "code",
   "execution_count": 28,
   "id": "b60eeb01",
   "metadata": {},
   "outputs": [
    {
     "data": {
      "text/plain": [
       "-1"
      ]
     },
     "execution_count": 28,
     "metadata": {},
     "output_type": "execute_result"
    }
   ],
   "source": [
    "a = 'sdkljf'\n",
    "\n",
    "a.find('a')"
   ]
  },
  {
   "cell_type": "code",
   "execution_count": null,
   "id": "795dd65d",
   "metadata": {},
   "outputs": [],
   "source": []
  }
 ],
 "metadata": {
  "kernelspec": {
   "display_name": "base",
   "language": "python",
   "name": "python3"
  },
  "language_info": {
   "codemirror_mode": {
    "name": "ipython",
    "version": 3
   },
   "file_extension": ".py",
   "mimetype": "text/x-python",
   "name": "python",
   "nbconvert_exporter": "python",
   "pygments_lexer": "ipython3",
   "version": "3.12.4"
  }
 },
 "nbformat": 4,
 "nbformat_minor": 5
}
